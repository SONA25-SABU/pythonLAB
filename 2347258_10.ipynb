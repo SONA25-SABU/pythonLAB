{
 "cells": [
  {
   "cell_type": "markdown",
   "metadata": {},
   "source": [
    "Q1. Apply regular expression for form validation. Create your domain-form using Tkinter Module. ➔ Form should contain Text box [For Name, Email Id, Phone number], Dropdown [for Gender], Spinbox [for Year/DoB] and other necessary widgets required for your domain. ➔ Validate Your Name, Email Id, Phone number in the form."
   ]
  },
  {
   "cell_type": "code",
   "execution_count": 2,
   "metadata": {},
   "outputs": [],
   "source": [
    "import tkinter as tk\n",
    "import re\n",
    "\n",
    "# Function to validate form inputs using regular expressions\n",
    "def validate_form():\n",
    "    name = name_entry.get()\n",
    "    email = email_entry.get()\n",
    "    phone = phone_entry.get()\n",
    "\n",
    "    # Regular expressions for validation\n",
    "    name_pattern = r\"^[A-Za-z\\s]+$\"\n",
    "    email_pattern = r\"^[a-zA-Z0-9._%+-]+@[a-zA-Z0-9.-]+\\.[a-zA-Z]{2,4}$\"\n",
    "    phone_pattern = r\"^\\d{10}$\"\n",
    "\n",
    "    # Check if the inputs match the patterns\n",
    "    if not re.match(name_pattern, name):\n",
    "        result_label.config(text=\"Invalid Name\")\n",
    "    elif not re.match(email_pattern, email):\n",
    "        result_label.config(text=\"Invalid Email\")\n",
    "    elif not re.match(phone_pattern, phone):\n",
    "        result_label.config(text=\"Invalid Phone Number\")\n",
    "    else:\n",
    "        result_label.config(text=\"Form Validated!\")\n",
    "\n",
    "# Create the Tkinter window\n",
    "window = tk.Tk()\n",
    "window.title(\"Agricultural Sector Form\")\n",
    "\n",
    "# Create form elements\n",
    "name_label = tk.Label(window, text=\"Name:\")\n",
    "name_entry = tk.Entry(window)\n",
    "\n",
    "email_label = tk.Label(window, text=\"Email:\")\n",
    "email_entry = tk.Entry(window)\n",
    "\n",
    "phone_label = tk.Label(window, text=\"Phone:\")\n",
    "phone_entry = tk.Entry(window)\n",
    "\n",
    "gender_label = tk.Label(window, text=\"Gender:\")\n",
    "gender_var = tk.StringVar()\n",
    "gender_dropdown = tk.OptionMenu(window, gender_var, \"Male\", \"Female\", \"Other\")\n",
    "\n",
    "dob_label = tk.Label(window, text=\"Year of Birth:\")\n",
    "dob_spinbox = tk.Spinbox(window, from_=1900, to=2023)\n",
    "\n",
    "validate_button = tk.Button(window, text=\"Validate\", command=validate_form)\n",
    "result_label = tk.Label(window, text=\"\")\n",
    "\n",
    "# Arrange form elements using grid layout\n",
    "name_label.grid(row=0, column=0)\n",
    "name_entry.grid(row=0, column=1)\n",
    "\n",
    "email_label.grid(row=1, column=0)\n",
    "email_entry.grid(row=1, column=1)\n",
    "\n",
    "phone_label.grid(row=2, column=0)\n",
    "phone_entry.grid(row=2, column=1)\n",
    "\n",
    "gender_label.grid(row=3, column=0)\n",
    "gender_dropdown.grid(row=3, column=1)\n",
    "\n",
    "dob_label.grid(row=4, column=0)\n",
    "dob_spinbox.grid(row=4, column=1)\n",
    "\n",
    "validate_button.grid(row=5, column=0, columnspan=2)\n",
    "result_label.grid(row=6, column=0, columnspan=2)\n",
    "\n",
    "# Start the Tkinter main loop\n",
    "window.mainloop()\n"
   ]
  },
  {
   "cell_type": "code",
   "execution_count": null,
   "metadata": {},
   "outputs": [],
   "source": []
  }
 ],
 "metadata": {
  "kernelspec": {
   "display_name": "Python 3",
   "language": "python",
   "name": "python3"
  },
  "language_info": {
   "codemirror_mode": {
    "name": "ipython",
    "version": 3
   },
   "file_extension": ".py",
   "mimetype": "text/x-python",
   "name": "python",
   "nbconvert_exporter": "python",
   "pygments_lexer": "ipython3",
   "version": "3.11.5"
  },
  "orig_nbformat": 4
 },
 "nbformat": 4,
 "nbformat_minor": 2
}
